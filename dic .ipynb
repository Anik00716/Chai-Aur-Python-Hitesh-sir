{
 "cells": [
  {
   "cell_type": "code",
   "execution_count": 1,
   "metadata": {
    "datalore": {
     "hide_input_from_viewers": false,
     "hide_output_from_viewers": false,
     "node_id": "jOAcezIb6RsM5LGXvjx7f9",
     "report_properties": {
      "rowId": "18Ir2qWaWnPOYMEQPj1QOl"
     },
     "type": "CODE"
    }
   },
   "outputs": [],
   "source": [
    "chai_types = {\"Masala\" : \"Spicy\", \"Ginger\" : \"Zesty\", \"Green\": \"Mild\"}"
   ]
  },
  {
   "cell_type": "code",
   "execution_count": 2,
   "metadata": {
    "datalore": {
     "hide_input_from_viewers": false,
     "hide_output_from_viewers": false,
     "node_id": "MR1TSfzC3LgYCl5ZQYs30t",
     "report_properties": {
      "rowId": "es633QFTjLs2GWdiTYlQts"
     },
     "type": "CODE"
    }
   },
   "outputs": [
    {
     "data": {
      "text/plain": [
       "'Spicy'"
      ]
     },
     "execution_count": 2,
     "metadata": {},
     "output_type": "execute_result"
    }
   ],
   "source": [
    "chai_types[\"Masala\"]"
   ]
  },
  {
   "cell_type": "code",
   "execution_count": 3,
   "metadata": {
    "datalore": {
     "hide_input_from_viewers": false,
     "hide_output_from_viewers": false,
     "node_id": "Xjswhy4VF47fEwulNc1LvJ",
     "report_properties": {
      "rowId": "lyU25etb4atHXIid1lBGdd"
     },
     "type": "CODE"
    }
   },
   "outputs": [
    {
     "data": {
      "text/plain": [
       "'Zesty'"
      ]
     },
     "execution_count": 3,
     "metadata": {},
     "output_type": "execute_result"
    }
   ],
   "source": [
    "chai_types.get(\"Ginger\")"
   ]
  },
  {
   "cell_type": "code",
   "execution_count": 4,
   "metadata": {
    "datalore": {
     "hide_input_from_viewers": false,
     "hide_output_from_viewers": false,
     "node_id": "ne6CZFecSRgmHf17C66cZl",
     "report_properties": {
      "rowId": "5i7oBz7bVXtBfvtSaDSkQu"
     },
     "type": "CODE"
    }
   },
   "outputs": [],
   "source": [
    "chai_types.get(\"Gingery\")"
   ]
  },
  {
   "cell_type": "code",
   "execution_count": 5,
   "metadata": {
    "datalore": {
     "hide_input_from_viewers": false,
     "hide_output_from_viewers": false,
     "node_id": "VABcJaSwhUAH9KLmoQFtzH",
     "report_properties": {
      "rowId": "0UrPkS91KkhQcl08T3ktC0"
     },
     "type": "CODE"
    }
   },
   "outputs": [
    {
     "data": {
      "text/plain": [
       "{'Masala': 'Spicy', 'Ginger': 'Zesty', 'Green': 'Mild'}"
      ]
     },
     "execution_count": 5,
     "metadata": {},
     "output_type": "execute_result"
    }
   ],
   "source": [
    "chai_types"
   ]
  },
  {
   "cell_type": "code",
   "execution_count": 6,
   "metadata": {
    "datalore": {
     "hide_input_from_viewers": false,
     "hide_output_from_viewers": false,
     "node_id": "9ZvFxm1uvmlkPJJc3sM1nU",
     "report_properties": {
      "rowId": "wyYm0Os8yo1fzMtw0N6MSN"
     },
     "type": "CODE"
    }
   },
   "outputs": [],
   "source": [
    "chai_types[\"Green\"] = \"Fresh\""
   ]
  },
  {
   "cell_type": "code",
   "execution_count": 7,
   "metadata": {
    "datalore": {
     "hide_input_from_viewers": false,
     "hide_output_from_viewers": false,
     "node_id": "h2ZnHB0Nvdru14LDtoVT1w",
     "report_properties": {
      "rowId": "qs8Ij4W5e0jDiLzt0NjeBP"
     },
     "type": "CODE"
    }
   },
   "outputs": [
    {
     "data": {
      "text/plain": [
       "{'Masala': 'Spicy', 'Ginger': 'Zesty', 'Green': 'Fresh'}"
      ]
     },
     "execution_count": 7,
     "metadata": {},
     "output_type": "execute_result"
    }
   ],
   "source": [
    "chai_types"
   ]
  },
  {
   "cell_type": "code",
   "execution_count": 8,
   "metadata": {
    "datalore": {
     "hide_input_from_viewers": false,
     "hide_output_from_viewers": false,
     "node_id": "KjfuF8Ik46Dv8RpNGbQDqP",
     "report_properties": {
      "rowId": "KLceI6HSA0O15tUCnC5oI4"
     },
     "type": "CODE"
    }
   },
   "outputs": [
    {
     "data": {
      "text/plain": [
       "{'Masala': 'Spicy', 'Ginger': 'Zesty', 'Green': 'Fresh'}"
      ]
     },
     "execution_count": 8,
     "metadata": {},
     "output_type": "execute_result"
    }
   ],
   "source": [
    "chai_types"
   ]
  },
  {
   "cell_type": "code",
   "execution_count": 9,
   "metadata": {
    "datalore": {
     "hide_input_from_viewers": false,
     "hide_output_from_viewers": false,
     "node_id": "Gcd4ns23pDjOC80l3VLGGj",
     "report_properties": {
      "rowId": "BfOFk2SfpKgUXt9FlPk1eU"
     },
     "type": "CODE"
    }
   },
   "outputs": [
    {
     "name": "stdout",
     "output_type": "stream",
     "text": [
      "Masala\n",
      "Ginger\n",
      "Green\n"
     ]
    }
   ],
   "source": [
    "for chai in chai_types:\n",
    "    print(chai)"
   ]
  },
  {
   "cell_type": "code",
   "execution_count": 10,
   "metadata": {
    "datalore": {
     "hide_input_from_viewers": false,
     "hide_output_from_viewers": false,
     "node_id": "bFdnxIVrIklBiwNuFU8rID",
     "report_properties": {
      "rowId": "oxkine6Ao8Y8H4rK1DLJI8"
     },
     "type": "CODE"
    }
   },
   "outputs": [
    {
     "name": "stdout",
     "output_type": "stream",
     "text": [
      "Masala Spicy\n",
      "Ginger Zesty\n",
      "Green Fresh\n"
     ]
    }
   ],
   "source": [
    "for chai in chai_types:\n",
    "    print(chai, chai_types[chai])"
   ]
  },
  {
   "cell_type": "code",
   "execution_count": 11,
   "metadata": {
    "datalore": {
     "hide_input_from_viewers": false,
     "hide_output_from_viewers": false,
     "node_id": "AMvvKpapVvy9KwnT9fspin",
     "report_properties": {
      "rowId": "m3blP3PanyxM5xDTn5yP1p"
     },
     "type": "CODE"
    }
   },
   "outputs": [
    {
     "name": "stdout",
     "output_type": "stream",
     "text": [
      "Masala Spicy\n",
      "Ginger Zesty\n",
      "Green Fresh\n"
     ]
    }
   ],
   "source": [
    "for key, value in chai_types.items():\n",
    "    print(key, value)"
   ]
  },
  {
   "cell_type": "code",
   "execution_count": 12,
   "metadata": {
    "datalore": {
     "hide_input_from_viewers": false,
     "hide_output_from_viewers": false,
     "node_id": "QQWZlaerqBVYGjKugDWcbw",
     "report_properties": {
      "rowId": "PqHqcVH7k3VLuJj00tXyyK"
     },
     "type": "CODE"
    }
   },
   "outputs": [
    {
     "name": "stdout",
     "output_type": "stream",
     "text": [
      "I have masala chai\n"
     ]
    }
   ],
   "source": [
    "if \"Masala\" in  chai_types:\n",
    "    print(\"I have masala chai\")"
   ]
  },
  {
   "cell_type": "code",
   "execution_count": 13,
   "metadata": {
    "datalore": {
     "hide_input_from_viewers": false,
     "hide_output_from_viewers": false,
     "node_id": "mzUUx4ghUAcZkovYvFz5DW",
     "report_properties": {
      "rowId": "YNq1cG841vAdj3VuaIo64R"
     },
     "type": "CODE"
    }
   },
   "outputs": [
    {
     "name": "stdout",
     "output_type": "stream",
     "text": [
      "3\n"
     ]
    }
   ],
   "source": [
    "print(len(chai_types))"
   ]
  },
  {
   "cell_type": "code",
   "execution_count": 14,
   "metadata": {
    "datalore": {
     "hide_input_from_viewers": false,
     "hide_output_from_viewers": false,
     "node_id": "MT3Av3vicw6RYctCiiWJ5x",
     "report_properties": {
      "rowId": "Ec0cLW81fwYhEoGhkpzWHf"
     },
     "type": "CODE"
    }
   },
   "outputs": [
    {
     "data": {
      "text/plain": [
       "{'Masala': 'Spicy', 'Ginger': 'Zesty', 'Green': 'Fresh'}"
      ]
     },
     "execution_count": 14,
     "metadata": {},
     "output_type": "execute_result"
    }
   ],
   "source": [
    "chai_types"
   ]
  },
  {
   "cell_type": "code",
   "execution_count": 15,
   "metadata": {
    "datalore": {
     "hide_input_from_viewers": false,
     "hide_output_from_viewers": false,
     "node_id": "CIhAMZA788yipYNw5H3tAq",
     "report_properties": {
      "rowId": "UFn84c7Bvae9DiU5XlAjky"
     },
     "type": "CODE"
    }
   },
   "outputs": [],
   "source": [
    "chai_types[\"Earl Grey\"] = \"Citrus\""
   ]
  },
  {
   "cell_type": "code",
   "execution_count": 16,
   "metadata": {
    "datalore": {
     "hide_input_from_viewers": false,
     "hide_output_from_viewers": false,
     "node_id": "zm5mr5ObfriiIfzfGaifZC",
     "report_properties": {
      "rowId": "9nE4n9bLwRwE4yJXd4kcfP"
     },
     "type": "CODE"
    }
   },
   "outputs": [
    {
     "data": {
      "text/plain": [
       "{'Masala': 'Spicy', 'Ginger': 'Zesty', 'Green': 'Fresh', 'Earl Grey': 'Citrus'}"
      ]
     },
     "execution_count": 16,
     "metadata": {},
     "output_type": "execute_result"
    }
   ],
   "source": [
    "chai_types"
   ]
  },
  {
   "cell_type": "code",
   "execution_count": 17,
   "metadata": {
    "datalore": {
     "hide_input_from_viewers": false,
     "hide_output_from_viewers": false,
     "node_id": "rw5ceaRyP6HcoBX0LQzHeF",
     "report_properties": {
      "rowId": "oAJoWsV2Sb1cYh0Q6mVimp"
     },
     "type": "CODE"
    }
   },
   "outputs": [
    {
     "data": {
      "text/plain": [
       "'Zesty'"
      ]
     },
     "execution_count": 17,
     "metadata": {},
     "output_type": "execute_result"
    }
   ],
   "source": [
    "chai_types.pop(\"Ginger\")"
   ]
  },
  {
   "cell_type": "code",
   "execution_count": 18,
   "metadata": {
    "datalore": {
     "hide_input_from_viewers": false,
     "hide_output_from_viewers": false,
     "node_id": "Ts1j08HuCffJs6SohahtkT",
     "report_properties": {
      "rowId": "gI7yaTf4Ldz8ifi2wF7TSa"
     },
     "type": "CODE"
    }
   },
   "outputs": [
    {
     "data": {
      "text/plain": [
       "{'Masala': 'Spicy', 'Green': 'Fresh', 'Earl Grey': 'Citrus'}"
      ]
     },
     "execution_count": 18,
     "metadata": {},
     "output_type": "execute_result"
    }
   ],
   "source": [
    "chai_types"
   ]
  },
  {
   "cell_type": "code",
   "execution_count": 19,
   "metadata": {
    "datalore": {
     "hide_input_from_viewers": false,
     "hide_output_from_viewers": false,
     "node_id": "jAzMb215kgJszNW6KpRNEe",
     "report_properties": {
      "rowId": "rQDlIY7VHGwVx6FG5b6PGX"
     },
     "type": "CODE"
    }
   },
   "outputs": [
    {
     "data": {
      "text/plain": [
       "('Earl Grey', 'Citrus')"
      ]
     },
     "execution_count": 19,
     "metadata": {},
     "output_type": "execute_result"
    }
   ],
   "source": [
    "chai_types.popitem()"
   ]
  },
  {
   "cell_type": "code",
   "execution_count": 20,
   "metadata": {
    "datalore": {
     "hide_input_from_viewers": false,
     "hide_output_from_viewers": false,
     "node_id": "E6H4Uwcyb73sonGfqbSfAt",
     "report_properties": {
      "rowId": "TtOIQuSd0Jxdbjrtdq4RAW"
     },
     "type": "CODE"
    }
   },
   "outputs": [
    {
     "data": {
      "text/plain": [
       "{'Masala': 'Spicy', 'Green': 'Fresh'}"
      ]
     },
     "execution_count": 20,
     "metadata": {},
     "output_type": "execute_result"
    }
   ],
   "source": [
    "chai_types"
   ]
  },
  {
   "cell_type": "code",
   "execution_count": 21,
   "metadata": {
    "datalore": {
     "hide_input_from_viewers": false,
     "hide_output_from_viewers": false,
     "node_id": "aRDIc9ibAwnoSY2o0kiffB",
     "report_properties": {
      "rowId": "DtZHDejlvuOY0B2AEVrr9Y"
     },
     "type": "CODE"
    }
   },
   "outputs": [],
   "source": [
    "del chai_types [\"Green\"]"
   ]
  },
  {
   "cell_type": "code",
   "execution_count": 22,
   "metadata": {
    "datalore": {
     "hide_input_from_viewers": false,
     "hide_output_from_viewers": false,
     "node_id": "kiUgQmm9FinQf2tP5hNW41",
     "report_properties": {
      "rowId": "EKusiDQTnITqvmQXtroPyc"
     },
     "type": "CODE"
    }
   },
   "outputs": [
    {
     "data": {
      "text/plain": [
       "{'Masala': 'Spicy'}"
      ]
     },
     "execution_count": 22,
     "metadata": {},
     "output_type": "execute_result"
    }
   ],
   "source": [
    "chai_types"
   ]
  },
  {
   "cell_type": "code",
   "execution_count": 23,
   "metadata": {
    "datalore": {
     "hide_input_from_viewers": false,
     "hide_output_from_viewers": false,
     "node_id": "jGxbKpeiYIyHoBAbFpvdP9",
     "report_properties": {
      "rowId": "TGLZLjgkQ8wSevibvjq76C"
     },
     "type": "CODE"
    }
   },
   "outputs": [],
   "source": [
    "chai_types_copy = chai_types.copy()"
   ]
  },
  {
   "cell_type": "code",
   "execution_count": 24,
   "metadata": {
    "datalore": {
     "hide_input_from_viewers": false,
     "hide_output_from_viewers": false,
     "node_id": "XhJBWBGNP6ixOwBKZAxLgm",
     "report_properties": {
      "rowId": "TrrYCdbca7p8ZxpE217ixi"
     },
     "type": "CODE"
    }
   },
   "outputs": [],
   "source": [
    "tea_shop = {\n",
    "    \"chai\" : {\"Masala\" : \"Spicy\", \"Ginger\" : \"Zesty\"}, \n",
    "    \"Tea\" : {\"Green\" : \"Mild\", \"Black\" : \"Strong\"}\n",
    "}"
   ]
  },
  {
   "cell_type": "code",
   "execution_count": 25,
   "metadata": {
    "datalore": {
     "hide_input_from_viewers": false,
     "hide_output_from_viewers": false,
     "node_id": "JtaXAyRljrKQCLZmqXV9U5",
     "report_properties": {
      "rowId": "8Krhw1jQ0a3UwbUqLnTjqU"
     },
     "type": "CODE"
    }
   },
   "outputs": [
    {
     "data": {
      "text/plain": [
       "{'chai': {'Masala': 'Spicy', 'Ginger': 'Zesty'},\n",
       " 'Tea': {'Green': 'Mild', 'Black': 'Strong'}}"
      ]
     },
     "execution_count": 25,
     "metadata": {},
     "output_type": "execute_result"
    }
   ],
   "source": [
    "tea_shop"
   ]
  },
  {
   "cell_type": "code",
   "execution_count": 26,
   "metadata": {
    "datalore": {
     "hide_input_from_viewers": false,
     "hide_output_from_viewers": false,
     "node_id": "AEGZ8dyj8a8O3tMedGQn99",
     "report_properties": {
      "rowId": "uJNNgfY5OCSFdyhE0H8sN1"
     },
     "type": "CODE"
    }
   },
   "outputs": [
    {
     "name": "stdout",
     "output_type": "stream",
     "text": [
      "{'chai': {'Masala': 'Spicy', 'Ginger': 'Zesty'}, 'Tea': {'Green': 'Mild', 'Black': 'Strong'}}\n"
     ]
    }
   ],
   "source": [
    "print(tea_shop)"
   ]
  },
  {
   "cell_type": "code",
   "execution_count": 27,
   "metadata": {
    "datalore": {
     "hide_input_from_viewers": false,
     "hide_output_from_viewers": false,
     "node_id": "wTYECf6ZVPRC2rV44FGJUD",
     "report_properties": {
      "rowId": "nH0MBBpIt75mFnSl0EJbrY"
     },
     "type": "CODE"
    }
   },
   "outputs": [
    {
     "data": {
      "text/plain": [
       "{'Masala': 'Spicy', 'Ginger': 'Zesty'}"
      ]
     },
     "execution_count": 27,
     "metadata": {},
     "output_type": "execute_result"
    }
   ],
   "source": [
    "tea_shop[\"chai\"]"
   ]
  },
  {
   "cell_type": "code",
   "execution_count": 28,
   "metadata": {
    "datalore": {
     "hide_input_from_viewers": false,
     "hide_output_from_viewers": false,
     "node_id": "Lz8hinrU8EAexVfcUaIKEy",
     "report_properties": {
      "rowId": "tdifVGO8piUyYGpkDK4YXT"
     },
     "type": "CODE"
    }
   },
   "outputs": [
    {
     "data": {
      "text/plain": [
       "'Zesty'"
      ]
     },
     "execution_count": 28,
     "metadata": {},
     "output_type": "execute_result"
    }
   ],
   "source": [
    "tea_shop[\"chai\"][\"Ginger\"]"
   ]
  },
  {
   "cell_type": "code",
   "execution_count": 29,
   "metadata": {
    "datalore": {
     "hide_input_from_viewers": false,
     "hide_output_from_viewers": false,
     "node_id": "7nXbFM0W5Qk0LdyMCVYJLc",
     "report_properties": {
      "rowId": "whQNd6DVwtmLQbIBLFRZ1q"
     },
     "type": "CODE"
    }
   },
   "outputs": [],
   "source": [
    "squared_num = {x : x ** 2 for x in range(6)}"
   ]
  },
  {
   "cell_type": "code",
   "execution_count": 30,
   "metadata": {
    "datalore": {
     "hide_input_from_viewers": false,
     "hide_output_from_viewers": false,
     "node_id": "BEdRNhbyeiwBPMf4NWSfpH",
     "report_properties": {
      "rowId": "C5vVhmCgAvbKNERCp9HMFY"
     },
     "type": "CODE"
    }
   },
   "outputs": [
    {
     "data": {
      "text/plain": [
       "{0: 0, 1: 1, 2: 4, 3: 9, 4: 16, 5: 25}"
      ]
     },
     "execution_count": 30,
     "metadata": {},
     "output_type": "execute_result"
    }
   ],
   "source": [
    "squared_num"
   ]
  },
  {
   "cell_type": "code",
   "execution_count": 31,
   "metadata": {
    "datalore": {
     "hide_input_from_viewers": false,
     "hide_output_from_viewers": false,
     "node_id": "GVQYEsMcIOP0ZuIC55wMxC",
     "report_properties": {
      "rowId": "cekaDKoctWlTY7X0AiZXm1"
     },
     "type": "CODE"
    }
   },
   "outputs": [],
   "source": [
    "squared_num.clear()"
   ]
  },
  {
   "cell_type": "code",
   "execution_count": 32,
   "metadata": {
    "datalore": {
     "hide_input_from_viewers": false,
     "hide_output_from_viewers": false,
     "node_id": "7QpNxlpbUDBR9WAPInv8yD",
     "report_properties": {
      "rowId": "Z6nXPsDg5pLQJvs1qguJ3Q"
     },
     "type": "CODE"
    }
   },
   "outputs": [
    {
     "data": {
      "text/plain": [
       "{}"
      ]
     },
     "execution_count": 32,
     "metadata": {},
     "output_type": "execute_result"
    }
   ],
   "source": [
    "squared_num"
   ]
  },
  {
   "cell_type": "code",
   "execution_count": 33,
   "metadata": {
    "datalore": {
     "hide_input_from_viewers": false,
     "hide_output_from_viewers": false,
     "node_id": "sakGNtKNvcIH73fgn0i7q0",
     "report_properties": {
      "rowId": "GUFcs0UnRCLs6sd8pW4Vbi"
     },
     "type": "CODE"
    }
   },
   "outputs": [],
   "source": [
    "keys = [\"Masala\",\"Ginger\", \"Lemon\"]"
   ]
  },
  {
   "cell_type": "code",
   "execution_count": 34,
   "metadata": {
    "datalore": {
     "hide_input_from_viewers": false,
     "hide_output_from_viewers": false,
     "node_id": "BmGqNaYUy3dL1mUyvZMKG9",
     "report_properties": {
      "rowId": "VbtPZXAYvcu6MoIRqSJUgB"
     },
     "type": "CODE"
    }
   },
   "outputs": [
    {
     "data": {
      "text/plain": [
       "['Masala', 'Ginger', 'Lemon']"
      ]
     },
     "execution_count": 34,
     "metadata": {},
     "output_type": "execute_result"
    }
   ],
   "source": [
    "keys"
   ]
  },
  {
   "cell_type": "code",
   "execution_count": 35,
   "metadata": {
    "datalore": {
     "hide_input_from_viewers": false,
     "hide_output_from_viewers": false,
     "node_id": "VDwHTlNY1ZO5TLpikZUWfI",
     "report_properties": {
      "rowId": "xaJVX1UKJ01LNYuuyWltgO"
     },
     "type": "CODE"
    }
   },
   "outputs": [],
   "source": [
    "default_value = \"Delicious\""
   ]
  },
  {
   "cell_type": "code",
   "execution_count": 36,
   "metadata": {
    "datalore": {
     "hide_input_from_viewers": false,
     "hide_output_from_viewers": false,
     "node_id": "ariFGGwQLFxzaPVBgeTenQ",
     "report_properties": {
      "rowId": "8WRAPSPnGpjz5HahItnfTu"
     },
     "type": "CODE"
    }
   },
   "outputs": [],
   "source": [
    "new_dict = dict.fromkeys(keys, default_value)"
   ]
  },
  {
   "cell_type": "code",
   "execution_count": 37,
   "metadata": {
    "datalore": {
     "hide_input_from_viewers": false,
     "hide_output_from_viewers": false,
     "node_id": "PY5LmTmz4uCjMrntBKgPeA",
     "report_properties": {
      "rowId": "dttaHG9bkHSQXsrK4txNI7"
     },
     "type": "CODE"
    }
   },
   "outputs": [
    {
     "data": {
      "text/plain": [
       "{'Masala': 'Delicious', 'Ginger': 'Delicious', 'Lemon': 'Delicious'}"
      ]
     },
     "execution_count": 37,
     "metadata": {},
     "output_type": "execute_result"
    }
   ],
   "source": [
    "new_dict"
   ]
  },
  {
   "cell_type": "code",
   "execution_count": 38,
   "metadata": {
    "datalore": {
     "hide_input_from_viewers": false,
     "hide_output_from_viewers": false,
     "node_id": "VBqrh9YSaoCTBcafWgkZnr",
     "report_properties": {
      "rowId": "tDDd06lMG6P7LEo54ZGQpR"
     },
     "type": "CODE"
    }
   },
   "outputs": [],
   "source": [
    "new_dict = dict.fromkeys(keys, keys)"
   ]
  },
  {
   "cell_type": "code",
   "execution_count": 39,
   "metadata": {
    "datalore": {
     "hide_input_from_viewers": false,
     "hide_output_from_viewers": false,
     "node_id": "ke0a1K9Oa6tPau0Kd8rnj5",
     "report_properties": {
      "rowId": "hIPJj7io8hHjFa9Re1w3KH"
     },
     "type": "CODE"
    }
   },
   "outputs": [
    {
     "data": {
      "text/plain": [
       "{'Masala': ['Masala', 'Ginger', 'Lemon'],\n",
       " 'Ginger': ['Masala', 'Ginger', 'Lemon'],\n",
       " 'Lemon': ['Masala', 'Ginger', 'Lemon']}"
      ]
     },
     "execution_count": 39,
     "metadata": {},
     "output_type": "execute_result"
    }
   ],
   "source": [
    "new_dict"
   ]
  },
  {
   "cell_type": "code",
   "execution_count": null,
   "metadata": {
    "datalore": {
     "hide_input_from_viewers": true,
     "hide_output_from_viewers": true,
     "node_id": "n7FMWEZdFdROlE8szoVABN",
     "type": "CODE"
    }
   },
   "outputs": [],
   "source": []
  }
 ],
 "metadata": {
  "datalore": {
   "base_environment": "default",
   "computation_mode": "JUPYTER",
   "package_manager": "pip",
   "packages": [],
   "report_row_ids": [
    "18Ir2qWaWnPOYMEQPj1QOl",
    "es633QFTjLs2GWdiTYlQts",
    "lyU25etb4atHXIid1lBGdd",
    "5i7oBz7bVXtBfvtSaDSkQu",
    "0UrPkS91KkhQcl08T3ktC0",
    "wyYm0Os8yo1fzMtw0N6MSN",
    "qs8Ij4W5e0jDiLzt0NjeBP",
    "KLceI6HSA0O15tUCnC5oI4",
    "BfOFk2SfpKgUXt9FlPk1eU",
    "oxkine6Ao8Y8H4rK1DLJI8",
    "m3blP3PanyxM5xDTn5yP1p",
    "PqHqcVH7k3VLuJj00tXyyK",
    "YNq1cG841vAdj3VuaIo64R",
    "Ec0cLW81fwYhEoGhkpzWHf",
    "UFn84c7Bvae9DiU5XlAjky",
    "9nE4n9bLwRwE4yJXd4kcfP",
    "oAJoWsV2Sb1cYh0Q6mVimp",
    "gI7yaTf4Ldz8ifi2wF7TSa",
    "rQDlIY7VHGwVx6FG5b6PGX",
    "TtOIQuSd0Jxdbjrtdq4RAW",
    "DtZHDejlvuOY0B2AEVrr9Y",
    "EKusiDQTnITqvmQXtroPyc",
    "TGLZLjgkQ8wSevibvjq76C",
    "TrrYCdbca7p8ZxpE217ixi",
    "8Krhw1jQ0a3UwbUqLnTjqU",
    "uJNNgfY5OCSFdyhE0H8sN1",
    "nH0MBBpIt75mFnSl0EJbrY",
    "tdifVGO8piUyYGpkDK4YXT",
    "whQNd6DVwtmLQbIBLFRZ1q",
    "C5vVhmCgAvbKNERCp9HMFY",
    "cekaDKoctWlTY7X0AiZXm1",
    "Z6nXPsDg5pLQJvs1qguJ3Q",
    "GUFcs0UnRCLs6sd8pW4Vbi",
    "VbtPZXAYvcu6MoIRqSJUgB",
    "xaJVX1UKJ01LNYuuyWltgO",
    "8WRAPSPnGpjz5HahItnfTu",
    "dttaHG9bkHSQXsrK4txNI7",
    "tDDd06lMG6P7LEo54ZGQpR",
    "hIPJj7io8hHjFa9Re1w3KH"
   ],
   "version": 3
  },
  "kernelspec": {
   "display_name": "Python 3",
   "language": "python",
   "name": "python3"
  },
  "language_info": {
   "codemirror_mode": {
    "name": "ipython",
    "version": 3
   },
   "file_extension": ".py",
   "mimetype": "text/x-python",
   "name": "python",
   "nbconvert_exporter": "python",
   "pygments_lexer": "ipython3",
   "version": "3.10.13"
  }
 },
 "nbformat": 4,
 "nbformat_minor": 4
}
